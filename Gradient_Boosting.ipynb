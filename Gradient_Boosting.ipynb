{
 "cells": [
  {
   "cell_type": "code",
   "execution_count": 1,
   "id": "a9e06f8f-d106-4da2-8b9e-4755bb0ab2ad",
   "metadata": {},
   "outputs": [],
   "source": [
    "import pandas as pd\n",
    "import numpy as np\n",
    "import matplotlib.pyplot as plt\n",
    "import seaborn as sns\n",
    "import statistics\n",
    "\n",
    "from sklearn import tree\n",
    "\n",
    "from sklearn.ensemble import RandomForestRegressor\n",
    "from sklearn.metrics import mean_squared_error\n",
    "from sklearn.model_selection import RandomizedSearchCV\n",
    "\n",
    "from sklearn.model_selection import train_test_split\n",
    "from sklearn.ensemble import GradientBoostingRegressor"
   ]
  },
  {
   "cell_type": "markdown",
   "id": "dd038ffc-74e6-4f08-99f4-de460dc9eadc",
   "metadata": {},
   "source": [
    "# Data Processing Pipeline"
   ]
  },
  {
   "cell_type": "code",
   "execution_count": 2,
   "id": "6bc3be67-8176-418e-906d-a795cbd6eb57",
   "metadata": {},
   "outputs": [
    {
     "data": {
      "text/plain": [
       "array(['True', 'False', 'Unkn'], dtype=object)"
      ]
     },
     "execution_count": 2,
     "metadata": {},
     "output_type": "execute_result"
    }
   ],
   "source": [
    "df = pd.read_excel('~/Desktop/USF_courses/Practicum/data/BrainMets_List_July2020_LF_OS.xlsx')\n",
    "\n",
    "#### Get patient number\n",
    "def get_patient(col):\n",
    "    lst = col.split('-')\n",
    "    return lst[2]\n",
    "\n",
    "#### Response_v: use time to death if it is not null else positive follow-up time\n",
    "def get_response(df):\n",
    "    if df['Time to death']>0:\n",
    "        return df['Time to death']\n",
    "    elif df['Follow-up time']>0:\n",
    "        return df['Follow-up time']\n",
    "       \n",
    "df['patient'] = df['PiCare MetID'].apply(lambda x:get_patient(x))\n",
    "df['response_v'] = df.apply(lambda x:get_response(x),axis=1)\n",
    "\n",
    "#### Convert all 1/0 to True/False\n",
    "def binary(col):\n",
    "    if col == '1' or col == 1:\n",
    "        return 'True'\n",
    "    if col == '0' or col == 0:\n",
    "        return 'False'\n",
    "    return col\n",
    "df['ECM'] = df['ECM'].apply(lambda x:binary(x))\n",
    "df['Prior_Chemo']=df['Prior_Chemo'].apply(lambda x:binary(x))\n",
    "df['Prior_Chemo'].unique()"
   ]
  },
  {
   "cell_type": "code",
   "execution_count": 3,
   "id": "5bd849de-814e-4031-b8dc-0671aa089a37",
   "metadata": {},
   "outputs": [
    {
     "name": "stdout",
     "output_type": "stream",
     "text": [
      "drop empty column: Race\n",
      "drop empty column: GPA\n",
      "drop empty column: RPA\n",
      "drop empty column: ECOG\n",
      "drop empty column: Conformity index\n",
      "drop empty column: Gradient index\n",
      "drop empty column: Heterogeneity index\n",
      "drop empty column: Distance from Ventricle\n",
      "drop empty column: BRAF_status\n",
      "drop empty column: CKIT_status\n",
      "drop empty column: NRAS_status\n",
      "drop empty column: EFGR_status\n",
      "drop empty column: ALK_status\n",
      "drop empty column: HER2-amplified status\n",
      "drop empty column: Distance_from_ventricle\n"
     ]
    },
    {
     "data": {
      "text/plain": [
       "(10445, 43)"
      ]
     },
     "execution_count": 3,
     "metadata": {},
     "output_type": "execute_result"
    }
   ],
   "source": [
    "#Drop columns that are all null value\n",
    "def drop_column(data, col):\n",
    "    return data.drop(columns=[col])\n",
    "\n",
    "for col in df.columns:\n",
    "    if df[col].isnull().sum()==10445:\n",
    "        print('drop empty column:',col)\n",
    "        df = drop_column(df,col)\n",
    "df.shape"
   ]
  },
  {
   "cell_type": "code",
   "execution_count": 4,
   "id": "4db0f52d-0348-4455-b018-af2d25b24342",
   "metadata": {},
   "outputs": [],
   "source": [
    "def hash_encode_cols(data, col):\n",
    "    print(\"Encoding column \",col)\n",
    "    data[col] = data[col].apply(hash).astype(\"int32\")\n",
    "    \n",
    "def label_encoding_with_NAs(data,col):\n",
    "    data[col] = data[col].astype('category').cat.as_ordered()\n",
    "    encoder = data[col].cat.categories\n",
    "    print(\"--- Encoding column \",col)\n",
    "    # leaving 0 for NAs\n",
    "    data[col] = data[col].cat.codes + 1"
   ]
  },
  {
   "cell_type": "code",
   "execution_count": 5,
   "id": "5e27a5ac-d2b9-40e3-ab2a-97add5a30691",
   "metadata": {},
   "outputs": [],
   "source": [
    "#### Only keep first GK data for one patient\n",
    "df_keepfirst = df.sort_values(by = 'Date GK').drop_duplicates(subset = ['patient'],keep = 'first')"
   ]
  },
  {
   "cell_type": "code",
   "execution_count": 6,
   "id": "d63eefbe-2520-4e9f-8e8c-e4125c6fdd05",
   "metadata": {},
   "outputs": [],
   "source": [
    "df_tree= drop_column(df_keepfirst,'Time to death')"
   ]
  },
  {
   "cell_type": "code",
   "execution_count": 7,
   "id": "b2cb8d09-f812-4991-8c62-c068c077a31a",
   "metadata": {},
   "outputs": [
    {
     "data": {
      "text/plain": [
       "Index(['PiCare MetID', 'Failure-binary', 'Failure-eventFreeTime',\n",
       "       'Follow-up time', 'Date GK', 'Age', 'Sex', 'Primary tumor Site',\n",
       "       'Primary tumor Histology', 'ECM', 'Location', 'Brief location', 'Side',\n",
       "       'Lateral dimension', 'AP dimension', 'Vertical dimension',\n",
       "       '#Metastases at 1st GK', 'Time between prim and met diagnosis',\n",
       "       'Prior SRS to same lesion', 'Prior SRS to other lesion',\n",
       "       'KPS at 1st GK', 'Prescribed IDL', 'Target vol in IDL', 'IDL volume',\n",
       "       'Vol in 12 Gy line', 'Vol in 10 Gy line', 'Prior_EBRT', 'Prior_RS',\n",
       "       'Prior_Chemo', 'Conc_Chemo', 'Salvage_RS', 'Salv_surg', 'Headaches',\n",
       "       'Seizures', 'Neuro symptoms', 'Prescription Dose', 'Max Dose',\n",
       "       'Target volume', 'Target vol in IDL.1', 'Maximum Tumor Diameter',\n",
       "       'patient', 'response_v'],\n",
       "      dtype='object')"
      ]
     },
     "execution_count": 7,
     "metadata": {},
     "output_type": "execute_result"
    }
   ],
   "source": [
    "df_tree.columns"
   ]
  },
  {
   "cell_type": "code",
   "execution_count": 8,
   "id": "01fa405f-db08-4a1c-a926-05cb081e27cf",
   "metadata": {},
   "outputs": [],
   "source": [
    "columns_drop = \"\"\"'PiCare MetID'\n",
    "'Failure-binary'\n",
    "'Failure-eventFreeTime'\n",
    "'Follow-up time'\n",
    "'Date GK'\n",
    "'Lateral dimension'\n",
    "'AP dimension'\n",
    "'Vertical dimension'\n",
    "'Prescribed IDL'\n",
    "'Target vol in IDL'\n",
    "'IDL volume'\n",
    "'Vol in 12 Gy line'\n",
    "'Vol in 10 Gy line'\n",
    "'Salvage_RS'\n",
    "'Salv_surg'\n",
    "'Headaches'\n",
    "'Seizures'\n",
    "'Prescription Dose'\n",
    "'Max Dose'\n",
    "'Target vol in IDL.1'\n",
    "'patient'\"\"\""
   ]
  },
  {
   "cell_type": "code",
   "execution_count": 9,
   "id": "1f5dd194-fb26-4221-9a35-c94dbef27253",
   "metadata": {},
   "outputs": [
    {
     "name": "stdout",
     "output_type": "stream",
     "text": [
      "21\n",
      "drop column: PiCare MetID\n",
      "drop column: Failure-binary\n",
      "drop column: Failure-eventFreeTime\n",
      "drop column: Follow-up time\n",
      "drop column: Date GK\n",
      "drop column: Lateral dimension\n",
      "drop column: AP dimension\n",
      "drop column: Vertical dimension\n",
      "drop column: Prescribed IDL\n",
      "drop column: Target vol in IDL\n",
      "drop column: IDL volume\n",
      "drop column: Vol in 12 Gy line\n",
      "drop column: Vol in 10 Gy line\n",
      "drop column: Salvage_RS\n",
      "drop column: Salv_surg\n",
      "drop column: Headaches\n",
      "drop column: Seizures\n",
      "drop column: Prescription Dose\n",
      "drop column: Max Dose\n",
      "drop column: Target vol in IDL.1\n",
      "drop column: patient\n"
     ]
    }
   ],
   "source": [
    "## Drop columns according to the excel spreadsheet\n",
    "col_lst = columns_drop.split('\\n')\n",
    "print(len(col_lst))\n",
    "for col in col_lst:\n",
    "    col=col.strip(\"'\")\n",
    "    print('drop column:',col)\n",
    "    df_tree= drop_column(df_tree,col)"
   ]
  },
  {
   "cell_type": "code",
   "execution_count": 10,
   "id": "509f17da-f0c7-4663-a705-5d4fe91c5ff1",
   "metadata": {},
   "outputs": [],
   "source": [
    "df_tree = df_tree.dropna(subset = ['response_v','Primary tumor Site','#Metastases at 1st GK'])"
   ]
  },
  {
   "cell_type": "code",
   "execution_count": 11,
   "id": "561bb39a-9354-4d19-a717-94034a9012b1",
   "metadata": {},
   "outputs": [],
   "source": [
    "df_drop = df_tree[df_tree.columns[~df_tree.isnull().any()]]"
   ]
  },
  {
   "cell_type": "code",
   "execution_count": 12,
   "id": "db8bb235-78f6-4be1-bbdf-4fe70bdc6816",
   "metadata": {},
   "outputs": [],
   "source": [
    "##create different datasets separated by primary tumor site\n",
    "dfs = []\n",
    "for site in df_tree['Primary tumor Site'].unique():\n",
    "    dff= df_tree[df_tree['Primary tumor Site']==site]\n",
    "    if (site != 'Unknown') & (site != 'Other'):\n",
    "        dfs.append((site,dff))"
   ]
  },
  {
   "cell_type": "code",
   "execution_count": 13,
   "id": "47c89964-cd19-4c3d-b0ee-249f22f11f78",
   "metadata": {},
   "outputs": [],
   "source": [
    "def split_target(df, target):\n",
    "    Y = df[target].values\n",
    "    X = df.drop(columns=[target])\n",
    "    return X, Y\n",
    "\n",
    "def process(df):\n",
    "    #only keep columns with less than 50 null data\n",
    "    na_number = df.isnull().sum()\n",
    "    df = df[df.columns[na_number<50]].dropna()\n",
    "    df = drop_column(df,'Primary tumor Site')\n",
    "    #encoding catagorical columns and NA data\n",
    "    for c,dtype in zip(df.columns,df.dtypes):\n",
    "        if dtype == 'object' or dtype == 'datetime64[ns]':\n",
    "            label_encoding_with_NAs(df,c)\n",
    "    X,y = split_target(df,'response_v')\n",
    "    return X,y\n",
    "# X,y = process(dfs[0][1])"
   ]
  },
  {
   "cell_type": "code",
   "execution_count": 14,
   "id": "32e5d79b-f451-4b12-8e46-4d8ba7792cfb",
   "metadata": {},
   "outputs": [],
   "source": [
    "def feature_importance_visual(ax,col,fi,t = 'Feature Importance Visualization'):\n",
    "\n",
    "    ax.bar(col,fi)\n",
    "#    ax.xticks(fontsize=12)\n",
    "\n",
    "    ax.set_title(label = t,\n",
    "                 pad=10,\n",
    "                size = 20)\n",
    "    for tick in ax.get_xticklabels():\n",
    "        tick.set_rotation(90)"
   ]
  },
  {
   "cell_type": "markdown",
   "id": "527da68c-091f-4154-b06d-b748024dbeee",
   "metadata": {},
   "source": [
    "# Gradient Boosting"
   ]
  },
  {
   "cell_type": "code",
   "execution_count": 15,
   "id": "aefd37a6-9362-4ae4-8fc4-5e93391d2595",
   "metadata": {},
   "outputs": [],
   "source": [
    "# Random search with CV\n",
    "def Random_search_gbr_cv(X,y):\n",
    "    #Cross-validation for hyperparameter search\n",
    "    X_train, X_test, y_train, y_test = train_test_split(X, y, random_state=0)\n",
    "    \n",
    "    max_depth = [int(x) for x in np.linspace(5, 20, num = 15)]\n",
    "    max_features = [x for x in np.linspace(0.1, 0.8, num = 15)]\n",
    "    min_samples_leaf = [int(x) for x in np.linspace(5, 20, num = 15)]\n",
    "    learning_rate = [x for x in np.linspace(0.01,0.1, num = 15)]\n",
    "\n",
    "    random_grid = {'max_features': max_features,\n",
    "                   'max_depth': max_depth,\n",
    "                   'min_samples_leaf': min_samples_leaf,\n",
    "                   'learning_rate':learning_rate}\n",
    "\n",
    "    gbr = GradientBoostingRegressor(n_estimators=100)\n",
    "\n",
    "    gbr_random = RandomizedSearchCV(estimator = gbr, \n",
    "                                   param_distributions = random_grid,\n",
    "                                   scoring = 'neg_mean_squared_error',\n",
    "                                   n_iter = 10, \n",
    "                                   random_state=42, \n",
    "                                   verbose=1, \n",
    "                                   n_jobs = -1)\n",
    "\n",
    "    gbr_random.fit(X,y)\n",
    "\n",
    "    \n",
    "    #Get the 'best' hyperparameter and fit all the data\n",
    "    h1 = gbr_random.best_params_['min_samples_leaf']\n",
    "    h2 = gbr_random.best_params_['max_features']\n",
    "    h3 = gbr_random.best_params_['max_depth']\n",
    "    h4 = gbr_random.best_params_['learning_rate']\n",
    "\n",
    "    gbr_all =  GradientBoostingRegressor(n_estimators=100, \n",
    "                                   min_samples_leaf=h1,\n",
    "                                   max_features=h2, \n",
    "                                   max_depth=h3,\n",
    "                                   learning_rate = h4,\n",
    "                                   verbose=0)\n",
    "\n",
    "    gbr_all.fit(X_train,y_train)\n",
    "    test_score = gbr_all.score(X_test,y_test)\n",
    "    # y_hat = rf_all.predict(X)\n",
    "    # mse = mean_squared_error(y,y_hat)\n",
    "    return h1,h2,h3,h4,gbr_all,test_score"
   ]
  },
  {
   "cell_type": "code",
   "execution_count": 16,
   "id": "7dbdfa95-09c3-4bef-a4b8-a9744ac6ac55",
   "metadata": {},
   "outputs": [
    {
     "name": "stdout",
     "output_type": "stream",
     "text": [
      "Breast\n",
      "--- Encoding column  Sex\n",
      "--- Encoding column  Primary tumor Histology\n",
      "--- Encoding column  ECM\n",
      "--- Encoding column  Location\n",
      "--- Encoding column  Side\n",
      "--- Encoding column  Prior_EBRT\n",
      "--- Encoding column  Prior_RS\n",
      "--- Encoding column  Prior_Chemo\n",
      "--- Encoding column  Neuro symptoms\n",
      "Fitting 5 folds for each of 10 candidates, totalling 50 fits\n",
      "### \n",
      "###Test score is 0.06085159280103247\n",
      "\n",
      " \n",
      "\n",
      "Melanoma\n",
      "--- Encoding column  Sex\n",
      "--- Encoding column  Primary tumor Histology\n",
      "--- Encoding column  ECM\n",
      "--- Encoding column  Location\n",
      "--- Encoding column  Side\n",
      "--- Encoding column  Prior_EBRT\n",
      "--- Encoding column  Prior_RS\n",
      "--- Encoding column  Prior_Chemo\n",
      "Fitting 5 folds for each of 10 candidates, totalling 50 fits\n",
      "### \n",
      "###Test score is -0.03239041408663512\n",
      "\n",
      " \n",
      "\n",
      "GI\n",
      "--- Encoding column  Sex\n",
      "--- Encoding column  Primary tumor Histology\n",
      "--- Encoding column  ECM\n",
      "--- Encoding column  Location\n",
      "--- Encoding column  Brief location\n",
      "--- Encoding column  Side\n",
      "--- Encoding column  Prior_EBRT\n",
      "--- Encoding column  Prior_RS\n",
      "--- Encoding column  Prior_Chemo\n",
      "--- Encoding column  Neuro symptoms\n",
      "Lung\n",
      "--- Encoding column  Sex\n",
      "--- Encoding column  Primary tumor Histology\n",
      "--- Encoding column  ECM\n",
      "--- Encoding column  Location\n",
      "--- Encoding column  Side\n",
      "--- Encoding column  Prior_EBRT\n",
      "--- Encoding column  Prior_RS\n",
      "--- Encoding column  Prior_Chemo\n",
      "Fitting 5 folds for each of 10 candidates, totalling 50 fits\n",
      "### \n",
      "###Test score is 0.002697061354297592\n",
      "\n",
      " \n",
      "\n",
      "Kidney\n",
      "--- Encoding column  Sex\n",
      "--- Encoding column  Primary tumor Histology\n",
      "--- Encoding column  ECM\n",
      "--- Encoding column  Location\n",
      "--- Encoding column  Side\n",
      "--- Encoding column  Prior_EBRT\n",
      "--- Encoding column  Prior_RS\n",
      "--- Encoding column  Prior_Chemo\n",
      "--- Encoding column  Neuro symptoms\n",
      "Fitting 5 folds for each of 10 candidates, totalling 50 fits\n",
      "### \n",
      "###Test score is -0.1053892828244336\n",
      "\n",
      " \n",
      "\n",
      "GYN\n",
      "--- Encoding column  Sex\n",
      "--- Encoding column  Primary tumor Histology\n",
      "--- Encoding column  ECM\n",
      "--- Encoding column  Location\n",
      "--- Encoding column  Brief location\n",
      "--- Encoding column  Side\n",
      "--- Encoding column  Prior_EBRT\n",
      "--- Encoding column  Prior_RS\n",
      "--- Encoding column  Prior_Chemo\n",
      "--- Encoding column  Conc_Chemo\n",
      "--- Encoding column  Neuro symptoms\n",
      "Sarcoma\n",
      "--- Encoding column  Sex\n",
      "--- Encoding column  Primary tumor Histology\n",
      "--- Encoding column  ECM\n",
      "--- Encoding column  Location\n",
      "--- Encoding column  Brief location\n",
      "--- Encoding column  Side\n",
      "--- Encoding column  Prior_EBRT\n",
      "--- Encoding column  Prior_RS\n",
      "--- Encoding column  Prior_Chemo\n",
      "--- Encoding column  Conc_Chemo\n",
      "--- Encoding column  Neuro symptoms\n"
     ]
    }
   ],
   "source": [
    "# info = []\n",
    "for site, data in dfs:\n",
    "    print(site)\n",
    "    X,y = process(data)\n",
    "    if X.shape[0]<20:\n",
    "        continue\n",
    "    output = Random_search_gbr_cv(X,y)\n",
    "    print(f'### \\n###Test score is {output[-1]}')\n",
    "    print('\\n \\n')\n",
    "    # info.append((site,output,X,y))"
   ]
  },
  {
   "cell_type": "code",
   "execution_count": null,
   "id": "2062c688-3a23-4391-b40a-d90ce2b1d1c4",
   "metadata": {},
   "outputs": [],
   "source": []
  }
 ],
 "metadata": {
  "kernelspec": {
   "display_name": "Python 3 (ipykernel)",
   "language": "python",
   "name": "python3"
  },
  "language_info": {
   "codemirror_mode": {
    "name": "ipython",
    "version": 3
   },
   "file_extension": ".py",
   "mimetype": "text/x-python",
   "name": "python",
   "nbconvert_exporter": "python",
   "pygments_lexer": "ipython3",
   "version": "3.8.2"
  }
 },
 "nbformat": 4,
 "nbformat_minor": 5
}
