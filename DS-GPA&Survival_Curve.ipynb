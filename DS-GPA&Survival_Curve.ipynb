{
 "cells": [
  {
   "cell_type": "code",
   "execution_count": 1,
   "id": "9e87b452-1bb1-46d0-8e79-d6caf1fc4b98",
   "metadata": {},
   "outputs": [],
   "source": [
    "import pandas as pd\n",
    "import numpy as np\n",
    "import matplotlib.pyplot as plt\n",
    "import seaborn as sns\n",
    "import statistics\n",
    "from sklearn.impute import SimpleImputer\n",
    "from lifelines import KaplanMeierFitter, CoxPHFitter\n",
    "from lifelines.statistics import logrank_test\n",
    "from scipy import stats"
   ]
  },
  {
   "cell_type": "markdown",
   "id": "59f39623-f697-41d8-882d-d072240e4b86",
   "metadata": {},
   "source": [
    "# 1. Basic EDA"
   ]
  },
  {
   "cell_type": "code",
   "execution_count": 2,
   "id": "5936ccdf-8ce2-4646-92bf-7a31708ee587",
   "metadata": {},
   "outputs": [],
   "source": [
    "df = pd.read_excel('~/Desktop/USF_courses/Practicum/data/BrainMets_List_July2020_LF_OS.xlsx')\n",
    "\n",
    "#### Get patient number\n",
    "def get_patient(col):\n",
    "    lst = col.split('-')\n",
    "    return lst[2]\n",
    "\n",
    "#### Response_v: use time to death if it is not null else positive follow-up time\n",
    "def get_response(df):\n",
    "    if df['Time to death']>0:\n",
    "        return df['Time to death']\n",
    "    elif df['Follow-up time']>0:\n",
    "        return df['Follow-up time']\n",
    "    \n",
    "df['patient'] = df['PiCare MetID'].apply(lambda x:get_patient(x))\n",
    "df['response_v'] = df.apply(lambda x:get_response(x),axis=1)"
   ]
  },
  {
   "cell_type": "code",
   "execution_count": 3,
   "id": "8d3bcc8c-7674-4f35-bdac-0f35d276c840",
   "metadata": {},
   "outputs": [],
   "source": [
    "def drop_column(data, col):\n",
    "    return data.drop(columns=[col])"
   ]
  },
  {
   "cell_type": "code",
   "execution_count": 4,
   "id": "5b55cd4e-e72f-402e-aa40-23b307f33197",
   "metadata": {},
   "outputs": [
    {
     "data": {
      "text/plain": [
       "(10445, 58)"
      ]
     },
     "execution_count": 4,
     "metadata": {},
     "output_type": "execute_result"
    }
   ],
   "source": [
    "df.shape"
   ]
  },
  {
   "cell_type": "code",
   "execution_count": 5,
   "id": "94b4cddc-f4bb-4042-9a28-2dd1c2abfb05",
   "metadata": {},
   "outputs": [
    {
     "data": {
      "text/plain": [
       "(10445, 43)"
      ]
     },
     "execution_count": 5,
     "metadata": {},
     "output_type": "execute_result"
    }
   ],
   "source": [
    "#Drop columns that are all null value\n",
    "for col in df.columns:\n",
    "    if df[col].isnull().sum()==10445:\n",
    "        df = drop_column(df,col)\n",
    "df.shape"
   ]
  },
  {
   "cell_type": "code",
   "execution_count": 6,
   "id": "fd3c59eb-fcca-4fcf-88aa-a30252c1f876",
   "metadata": {},
   "outputs": [
    {
     "data": {
      "text/plain": [
       "Lung        3716\n",
       "Breast      3030\n",
       "Melanoma    2194\n",
       "Kidney       521\n",
       "GI           306\n",
       "Other        241\n",
       "GYN          194\n",
       "Sarcoma      125\n",
       "Unknown      102\n",
       "Name: Primary tumor Site, dtype: int64"
      ]
     },
     "execution_count": 6,
     "metadata": {},
     "output_type": "execute_result"
    }
   ],
   "source": [
    "df['Primary tumor Site'].value_counts()"
   ]
  },
  {
   "cell_type": "code",
   "execution_count": 7,
   "id": "a5582114-d49f-433d-b282-e76218b2a5c2",
   "metadata": {},
   "outputs": [
    {
     "data": {
      "text/plain": [
       "Met_AdenoCA                    6285\n",
       "Met_Melanoma                   2197\n",
       "Met_Renal_cell_CA               421\n",
       "Met_Carcinoma_NOS               396\n",
       "Met_Other                       185\n",
       "Met_Small_cell_CA               178\n",
       "Met_Squamous_cell_CA            168\n",
       "Met_Small_Cell_CA               119\n",
       "Met_Sarcoma                     117\n",
       "Met_Renal_Cell_CA                90\n",
       "Met_Large_cell_CA                80\n",
       "Met_Squamous_Cell_CA             63\n",
       "Met_Adenosquamous_CA             50\n",
       "Met_Bronchoalveolar_CA           30\n",
       "Met_Large_Cell_CA                20\n",
       "Met_Germ_cell_tumor              12\n",
       "Bone_met                         10\n",
       "Met_Germ_Cell_Tumor               3\n",
       "Met_                              2\n",
       "Met_Squamous call carcinoma       2\n",
       "Met_Lymphoma                      1\n",
       "Name: Primary tumor Histology, dtype: int64"
      ]
     },
     "execution_count": 7,
     "metadata": {},
     "output_type": "execute_result"
    }
   ],
   "source": [
    "df['Primary tumor Histology'].value_counts()"
   ]
  },
  {
   "cell_type": "code",
   "execution_count": 8,
   "id": "8fc7474e-fed5-4196-863b-3d3ded9947dc",
   "metadata": {},
   "outputs": [
    {
     "data": {
      "text/plain": [
       "array([ 80.,  60.,  90.,  70.,  50., 100.,  40.,  nan])"
      ]
     },
     "execution_count": 8,
     "metadata": {},
     "output_type": "execute_result"
    }
   ],
   "source": [
    "df['KPS at 1st GK'].unique()"
   ]
  },
  {
   "cell_type": "code",
   "execution_count": 9,
   "id": "1077219d-3662-4c5e-a9b7-828dba1a3805",
   "metadata": {},
   "outputs": [
    {
     "data": {
      "text/plain": [
       "True     7588\n",
       "False    1975\n",
       "0         810\n",
       "Unkn       72\n",
       "Name: ECM, dtype: int64"
      ]
     },
     "execution_count": 9,
     "metadata": {},
     "output_type": "execute_result"
    }
   ],
   "source": [
    "df['ECM'].value_counts()"
   ]
  },
  {
   "cell_type": "code",
   "execution_count": 10,
   "id": "b0c1cb95-6572-4be7-ad3d-b33296e5dea0",
   "metadata": {},
   "outputs": [
    {
     "data": {
      "text/plain": [
       "array([ 3.,  5.,  4.,  2.,  6.,  1.,  9.,  8., 10.,  7., 22., 16., 14.,\n",
       "       17., 12., 11., 31., 13., 15., 19., 18., 24., 61., 20., 27., 25.,\n",
       "       29., nan, 26., 30., 23.])"
      ]
     },
     "execution_count": 10,
     "metadata": {},
     "output_type": "execute_result"
    }
   ],
   "source": [
    "df['#Metastases at 1st GK'].unique()"
   ]
  },
  {
   "cell_type": "code",
   "execution_count": 11,
   "id": "849a0c04-e04e-49d2-ab72-20e065b06764",
   "metadata": {},
   "outputs": [
    {
     "data": {
      "text/plain": [
       "array(['False', 'True', 'Unkn'], dtype=object)"
      ]
     },
     "execution_count": 11,
     "metadata": {},
     "output_type": "execute_result"
    }
   ],
   "source": [
    "#### Convert all 1/0 to True/False\n",
    "def binary(col):\n",
    "    if col == '1' or col == 1:\n",
    "        return 'True'\n",
    "    if col == '0' or col == 0:\n",
    "        return 'False'\n",
    "    return col\n",
    "df['ECM'] = df['ECM'].apply(lambda x:binary(x))\n",
    "df['ECM'].unique()"
   ]
  },
  {
   "cell_type": "markdown",
   "id": "f45f318c-b1c8-4f4a-aad1-f72bffe88e71",
   "metadata": {},
   "source": [
    "# Compute GPA Score"
   ]
  },
  {
   "cell_type": "code",
   "execution_count": 12,
   "id": "f96b2f1e-df7b-4fd4-bb5d-00b6ad219dfe",
   "metadata": {},
   "outputs": [],
   "source": [
    "def lung_gpa(dff):\n",
    "    gpa = 0\n",
    "    if dff[['Age','KPS at 1st GK','ECM','#Metastases at 1st GK']].isnull().any().any() == True:\n",
    "        return np.nan\n",
    "    #Age\n",
    "    if (dff['Age'] >= 50) & (dff['Age']<=60):\n",
    "        gpa += 0.5\n",
    "    if dff['Age']<50:\n",
    "        gpa +=1\n",
    "    #KPS\n",
    "    if (dff['KPS at 1st GK']>= 70)& (dff['KPS at 1st GK']<=80):\n",
    "        gpa+=0.5\n",
    "    if (dff['KPS at 1st GK']>= 90)& (dff['KPS at 1st GK']<=100):\n",
    "        gpa +=1\n",
    "    #ECM\n",
    "    if dff['ECM']=='False':\n",
    "        gpa += 1\n",
    "    # No.of BM\n",
    "    if (dff['#Metastases at 1st GK']>=2) & (dff['#Metastases at 1st GK']<=3):\n",
    "        gpa +=0.5\n",
    "    if dff['#Metastases at 1st GK']==1:\n",
    "        gpa+=1\n",
    "    return gpa\n",
    "\n",
    "def melanoma_gpa(dff):\n",
    "    gpa = 0\n",
    "    if dff[['KPS at 1st GK','#Metastases at 1st GK']].isnull().any().any() == True:\n",
    "        return np.nan\n",
    "    \n",
    "    #KPS\n",
    "    if (dff['KPS at 1st GK']>= 70)& (dff['KPS at 1st GK']<=80):\n",
    "        gpa +=1\n",
    "    if (dff['KPS at 1st GK']>= 90)& (dff['KPS at 1st GK']<=100):\n",
    "        gpa +=1\n",
    "        \n",
    "    # No.of BM\n",
    "    if (dff['#Metastases at 1st GK']>=2) & (dff['#Metastases at 1st GK']<=3):\n",
    "        gpa +=1\n",
    "    if dff['#Metastases at 1st GK']==1:\n",
    "        gpa +=2\n",
    "    return gpa\n",
    "\n",
    "#Renal cell carcinoma\n",
    "def kidney_gpa(dff):\n",
    "    gpa = 0\n",
    "    if dff[['KPS at 1st GK','#Metastases at 1st GK']].isnull().any().any() == True:\n",
    "        return np.nan    \n",
    "    #KPS\n",
    "    if (dff['KPS at 1st GK']>= 70)& (dff['KPS at 1st GK']<=80):\n",
    "        gpa +=1\n",
    "    if (dff['KPS at 1st GK']>= 90)& (dff['KPS at 1st GK']<=100):\n",
    "        gpa +=1\n",
    "        \n",
    "    # No.of BM\n",
    "    if (dff['#Metastases at 1st GK']>=2) & (dff['#Metastases at 1st GK']<=3):\n",
    "        gpa +=1\n",
    "    if dff['#Metastases at 1st GK']==1:\n",
    "        gpa +=2\n",
    "    return gpa\n",
    "\n",
    "def gi_gpa(dff):\n",
    "    if dff[['KPS at 1st GK']].isnull().any().any() == True:\n",
    "        return np.nan    \n",
    "    #KPS\n",
    "    if dff['KPS at 1st GK']== 70:\n",
    "        return 1\n",
    "    if dff['KPS at 1st GK']==80:\n",
    "        return 2\n",
    "    if dff['KPS at 1st GK']==90:\n",
    "        return 3\n",
    "    if dff['KPS at 1st GK']==100:\n",
    "        return 4\n",
    "    \n",
    "\n",
    "\n",
    "def add_gpa(df):\n",
    "    if df['Primary tumor Site']=='GI': return gi_gpa(df)\n",
    "    if df['Primary tumor Site']=='Kidney': return kidney_gpa(df)\n",
    "    if df['Primary tumor Site']=='Lung': return lung_gpa(df)\n",
    "    if df['Primary tumor Site']=='Melanoma': return gi_gpa(df)\n",
    "    if df['Primary tumor Site']=='Breast': return lung_gpa(df) ## Same criteria as lung\n",
    "\n",
    "\n",
    "def gpa_range(gpa):\n",
    "    if gpa >=0 and gpa<=1:\n",
    "        return '0-1'\n",
    "    if gpa >=1.5 and gpa<=2:\n",
    "        return '1.5-2'\n",
    "    if gpa >=2.5 and gpa<=3:\n",
    "        return '2.5-3'\n",
    "    if gpa >=3.5 and gpa<=4:\n",
    "        return '3.5-4'\n"
   ]
  },
  {
   "cell_type": "code",
   "execution_count": 13,
   "id": "391b0147-d87e-4abf-810a-f384d271986f",
   "metadata": {},
   "outputs": [],
   "source": [
    "df['GPA'] = df.apply(lambda x:add_gpa(x),axis =1)\n",
    "df['GPA_range'] = df['GPA'].apply(lambda x:gpa_range(x))"
   ]
  },
  {
   "cell_type": "code",
   "execution_count": 14,
   "id": "59b288dc-fe56-401c-8ba4-590ff2053eb8",
   "metadata": {},
   "outputs": [],
   "source": [
    "#### Drop data without GPA/response_v\n",
    "df_patients = df[['patient','Primary tumor Site','Age','KPS at 1st GK','ECM','#Metastases at 1st GK','response_v','GPA','GPA_range','Time to death','Follow-up time','Date GK']].drop_duplicates().dropna(subset=['GPA','response_v'])"
   ]
  },
  {
   "cell_type": "code",
   "execution_count": 15,
   "id": "817f3672-afc6-4891-a651-a87a709573ab",
   "metadata": {},
   "outputs": [],
   "source": [
    "#### Only keep first GK data for one patient\n",
    "df_patients_keepfirst = df_patients.sort_values(by = 'Date GK').drop_duplicates(subset = ['patient'],keep = 'first')"
   ]
  },
  {
   "cell_type": "code",
   "execution_count": 16,
   "id": "58ca1643-b5a3-4df9-932c-9fe96f720f19",
   "metadata": {},
   "outputs": [
    {
     "data": {
      "text/plain": [
       "(1381, 12)"
      ]
     },
     "execution_count": 16,
     "metadata": {},
     "output_type": "execute_result"
    }
   ],
   "source": [
    "df_patients_keepfirst.shape"
   ]
  },
  {
   "cell_type": "markdown",
   "id": "be2bf868-c5b6-4a62-aae9-8d03b7ea421f",
   "metadata": {},
   "source": [
    "# Kaplan_Meier Estimation"
   ]
  },
  {
   "cell_type": "code",
   "execution_count": 17,
   "id": "14d82fd6-795b-4cc1-a681-51dc871c83a4",
   "metadata": {},
   "outputs": [],
   "source": [
    "df_patients_keepfirst['alive'] = df_patients_keepfirst['Time to death'].apply(lambda x: 0 if pd.isnull(x) == True else 1)\n",
    "\n",
    "df_curve = df_patients_keepfirst[['alive','response_v','GPA_range','Primary tumor Site']].dropna()\n",
    "\n",
    "df_curve['alive'] = df_curve['alive'].apply(lambda x: x == 1)"
   ]
  },
  {
   "cell_type": "code",
   "execution_count": 18,
   "id": "eced2865-748f-4e0d-b40f-840982b5441d",
   "metadata": {},
   "outputs": [
    {
     "data": {
      "text/plain": [
       "True     1267\n",
       "False     114\n",
       "Name: alive, dtype: int64"
      ]
     },
     "execution_count": 18,
     "metadata": {},
     "output_type": "execute_result"
    }
   ],
   "source": [
    "df_curve['alive'].value_counts()"
   ]
  },
  {
   "cell_type": "code",
   "execution_count": 20,
   "id": "e85922c3-fc2c-4e62-ad51-f09a411d82c7",
   "metadata": {},
   "outputs": [],
   "source": [
    "gpa_range = ['0-1', '1.5-2', '2.5-3', '3.5-4']"
   ]
  },
  {
   "cell_type": "code",
   "execution_count": 21,
   "id": "e2e768ce-497d-41a6-8db1-d71ac935b02c",
   "metadata": {},
   "outputs": [
    {
     "data": {
      "text/plain": [
       "<lifelines.KaplanMeierFitter:\"Overall\", fitted with 1381 total observations, 114 right-censored observations>"
      ]
     },
     "execution_count": 21,
     "metadata": {},
     "output_type": "execute_result"
    }
   ],
   "source": [
    "from lifelines import KaplanMeierFitter\n",
    "from lifelines.utils import median_survival_times\n",
    "\n",
    "kmf = KaplanMeierFitter(label='Overall')\n",
    "kmf.fit(df_curve['response_v'],df_curve['alive'])"
   ]
  },
  {
   "cell_type": "code",
   "execution_count": 22,
   "id": "3cc2c14d-a061-4884-af5b-1e8255627d39",
   "metadata": {},
   "outputs": [
    {
     "data": {
      "image/png": "[encoded data removed]",
      "text/plain": [
       "<Figure size 432x288 with 1 Axes>"
      ]
     },
     "metadata": {
      "needs_background": "light"
     },
     "output_type": "display_data"
    }
   ],
   "source": [
    "kmf.plot()\n",
    "plt.show()"
   ]
  },
  {
   "cell_type": "code",
   "execution_count": 23,
   "id": "dd80d0be-981d-4667-903b-05a7e50c26a2",
   "metadata": {},
   "outputs": [],
   "source": [
    "def survival_curve_kmf(data,cluster_list,site_name, classes = \"GPA_range\", survival_col = \"alive\",time_col = \"response_v\"):\n",
    "    ax = plt.subplot(111)\n",
    "    ci_lst = [] #(site_name, gpa_range, median, lower_ci, higher_ci)\n",
    "    for c in cluster_list:\n",
    "        mask = data[classes] == c\n",
    "        if len(data[survival_col][mask]) ==0:\n",
    "            continue\n",
    "        kmf.fit(data[time_col][mask],event_observed=data[survival_col][mask],label = f\"GPA_range = {c}\")\n",
    "        median = kmf.median_survival_time_\n",
    "        l,r = median_survival_times(kmf.confidence_interval_).iloc[0]\n",
    "        ci_lst.append((site_name, c, median, l, r))\n",
    "        kmf.plot_survival_function(ax=ax)\n",
    "\n",
    "\n",
    "    plt.ylabel(\"est. probability of survival $\\hat{S}(t)$\")\n",
    "    plt.xlabel(\"time $t$\")\n",
    "    plt.legend(loc=\"best\")\n",
    "    plt.title('Survival Curve for %s' % site_name)\n",
    "    plt.show()\n",
    "    return ci_lst"
   ]
  },
  {
   "cell_type": "code",
   "execution_count": 24,
   "id": "853745d2-9781-4945-b201-62c7098a9a4c",
   "metadata": {},
   "outputs": [
    {
     "data": {
      "image/png": "[encoded data removed]",
      "text/plain": [
       "<Figure size 432x288 with 1 Axes>"
      ]
     },
     "metadata": {
      "needs_background": "light"
     },
     "output_type": "display_data"
    }
   ],
   "source": [
    "ci= survival_curve_kmf(df_curve,gpa_range,'Overall')"
   ]
  },
  {
   "cell_type": "code",
   "execution_count": 25,
   "id": "682b4a8e-69fd-4d7d-b6c8-40965efd4013",
   "metadata": {},
   "outputs": [
    {
     "data": {
      "image/png": "[encoded data removed]",
      "text/plain": [
       "<Figure size 432x288 with 1 Axes>"
      ]
     },
     "metadata": {
      "needs_background": "light"
     },
     "output_type": "display_data"
    },
    {
     "data": {
      "image/png": "[encoded data removed]",
      "text/plain": [
       "<Figure size 432x288 with 1 Axes>"
      ]
     },
     "metadata": {
      "needs_background": "light"
     },
     "output_type": "display_data"
    },
    {
     "data": {
      "image/png": "[encoded data removed]",
      "text/plain": [
       "<Figure size 432x288 with 1 Axes>"
      ]
     },
     "metadata": {
      "needs_background": "light"
     },
     "output_type": "display_data"
    },
    {
     "data": {
      "image/png": "[encoded data removed]",
      "text/plain": [
       "<Figure size 432x288 with 1 Axes>"
      ]
     },
     "metadata": {
      "needs_background": "light"
     },
     "output_type": "display_data"
    },
    {
     "data": {
      "image/png": "[encoded data removed]",
      "text/plain": [
       "<Figure size 432x288 with 1 Axes>"
      ]
     },
     "metadata": {
      "needs_background": "light"
     },
     "output_type": "display_data"
    }
   ],
   "source": [
    "for site in df_curve['Primary tumor Site'].unique():\n",
    "    dff = df_curve[df_curve['Primary tumor Site']==site]\n",
    "    ci_site = survival_curve_kmf(dff,gpa_range,site)\n",
    "    ci.extend(ci_site)"
   ]
  },
  {
   "cell_type": "code",
   "execution_count": 26,
   "id": "56324c39-193b-4df8-945d-4df7d02d3a3e",
   "metadata": {},
   "outputs": [],
   "source": [
    "result = pd.DataFrame(ci,columns=[['Primary_site','GPA_range','KMF_median','Lower_median_CI','Higher_median_CI']])"
   ]
  },
  {
   "cell_type": "code",
   "execution_count": 27,
   "id": "06cc5189-940f-428b-8367-ee920873d6ec",
   "metadata": {},
   "outputs": [
    {
     "data": {
      "text/html": [
       "<div>\n",
       "<style scoped>\n",
       "    .dataframe tbody tr th:only-of-type {\n",
       "        vertical-align: middle;\n",
       "    }\n",
       "\n",
       "    .dataframe tbody tr th {\n",
       "        vertical-align: top;\n",
       "    }\n",
       "\n",
       "    .dataframe thead tr th {\n",
       "        text-align: left;\n",
       "    }\n",
       "</style>\n",
       "<table border=\"1\" class=\"dataframe\">\n",
       "  <thead>\n",
       "    <tr>\n",
       "      <th></th>\n",
       "      <th>Primary_site</th>\n",
       "      <th>GPA_range</th>\n",
       "      <th>KMF_median</th>\n",
       "      <th>Lower_median_CI</th>\n",
       "      <th>Higher_median_CI</th>\n",
       "    </tr>\n",
       "  </thead>\n",
       "  <tbody>\n",
       "    <tr>\n",
       "      <th>0</th>\n",
       "      <td>Overall</td>\n",
       "      <td>0-1</td>\n",
       "      <td>240.0</td>\n",
       "      <td>193.0</td>\n",
       "      <td>275.0</td>\n",
       "    </tr>\n",
       "    <tr>\n",
       "      <th>1</th>\n",
       "      <td>Overall</td>\n",
       "      <td>1.5-2</td>\n",
       "      <td>281.0</td>\n",
       "      <td>255.0</td>\n",
       "      <td>312.0</td>\n",
       "    </tr>\n",
       "    <tr>\n",
       "      <th>2</th>\n",
       "      <td>Overall</td>\n",
       "      <td>2.5-3</td>\n",
       "      <td>375.0</td>\n",
       "      <td>325.0</td>\n",
       "      <td>430.0</td>\n",
       "    </tr>\n",
       "    <tr>\n",
       "      <th>3</th>\n",
       "      <td>Overall</td>\n",
       "      <td>3.5-4</td>\n",
       "      <td>530.0</td>\n",
       "      <td>400.0</td>\n",
       "      <td>851.0</td>\n",
       "    </tr>\n",
       "    <tr>\n",
       "      <th>4</th>\n",
       "      <td>Breast</td>\n",
       "      <td>0-1</td>\n",
       "      <td>294.0</td>\n",
       "      <td>186.0</td>\n",
       "      <td>373.0</td>\n",
       "    </tr>\n",
       "    <tr>\n",
       "      <th>5</th>\n",
       "      <td>Breast</td>\n",
       "      <td>1.5-2</td>\n",
       "      <td>366.0</td>\n",
       "      <td>311.0</td>\n",
       "      <td>428.0</td>\n",
       "    </tr>\n",
       "    <tr>\n",
       "      <th>6</th>\n",
       "      <td>Breast</td>\n",
       "      <td>2.5-3</td>\n",
       "      <td>461.0</td>\n",
       "      <td>356.0</td>\n",
       "      <td>712.0</td>\n",
       "    </tr>\n",
       "    <tr>\n",
       "      <th>7</th>\n",
       "      <td>Breast</td>\n",
       "      <td>3.5-4</td>\n",
       "      <td>906.0</td>\n",
       "      <td>352.0</td>\n",
       "      <td>2320.0</td>\n",
       "    </tr>\n",
       "    <tr>\n",
       "      <th>8</th>\n",
       "      <td>Melanoma</td>\n",
       "      <td>0-1</td>\n",
       "      <td>127.0</td>\n",
       "      <td>77.0</td>\n",
       "      <td>281.0</td>\n",
       "    </tr>\n",
       "    <tr>\n",
       "      <th>9</th>\n",
       "      <td>Melanoma</td>\n",
       "      <td>1.5-2</td>\n",
       "      <td>143.0</td>\n",
       "      <td>119.0</td>\n",
       "      <td>194.0</td>\n",
       "    </tr>\n",
       "    <tr>\n",
       "      <th>10</th>\n",
       "      <td>Melanoma</td>\n",
       "      <td>2.5-3</td>\n",
       "      <td>269.0</td>\n",
       "      <td>230.0</td>\n",
       "      <td>306.0</td>\n",
       "    </tr>\n",
       "    <tr>\n",
       "      <th>11</th>\n",
       "      <td>Melanoma</td>\n",
       "      <td>3.5-4</td>\n",
       "      <td>400.0</td>\n",
       "      <td>217.0</td>\n",
       "      <td>484.0</td>\n",
       "    </tr>\n",
       "    <tr>\n",
       "      <th>12</th>\n",
       "      <td>GI</td>\n",
       "      <td>0-1</td>\n",
       "      <td>165.0</td>\n",
       "      <td>65.0</td>\n",
       "      <td>417.0</td>\n",
       "    </tr>\n",
       "    <tr>\n",
       "      <th>13</th>\n",
       "      <td>GI</td>\n",
       "      <td>1.5-2</td>\n",
       "      <td>330.0</td>\n",
       "      <td>160.0</td>\n",
       "      <td>445.0</td>\n",
       "    </tr>\n",
       "    <tr>\n",
       "      <th>14</th>\n",
       "      <td>GI</td>\n",
       "      <td>2.5-3</td>\n",
       "      <td>240.0</td>\n",
       "      <td>161.0</td>\n",
       "      <td>336.0</td>\n",
       "    </tr>\n",
       "    <tr>\n",
       "      <th>15</th>\n",
       "      <td>GI</td>\n",
       "      <td>3.5-4</td>\n",
       "      <td>356.0</td>\n",
       "      <td>356.0</td>\n",
       "      <td>356.0</td>\n",
       "    </tr>\n",
       "    <tr>\n",
       "      <th>16</th>\n",
       "      <td>Lung</td>\n",
       "      <td>0-1</td>\n",
       "      <td>244.0</td>\n",
       "      <td>195.0</td>\n",
       "      <td>292.0</td>\n",
       "    </tr>\n",
       "    <tr>\n",
       "      <th>17</th>\n",
       "      <td>Lung</td>\n",
       "      <td>1.5-2</td>\n",
       "      <td>291.0</td>\n",
       "      <td>262.0</td>\n",
       "      <td>352.0</td>\n",
       "    </tr>\n",
       "    <tr>\n",
       "      <th>18</th>\n",
       "      <td>Lung</td>\n",
       "      <td>2.5-3</td>\n",
       "      <td>463.0</td>\n",
       "      <td>377.0</td>\n",
       "      <td>539.0</td>\n",
       "    </tr>\n",
       "    <tr>\n",
       "      <th>19</th>\n",
       "      <td>Lung</td>\n",
       "      <td>3.5-4</td>\n",
       "      <td>683.0</td>\n",
       "      <td>295.0</td>\n",
       "      <td>993.0</td>\n",
       "    </tr>\n",
       "    <tr>\n",
       "      <th>20</th>\n",
       "      <td>Kidney</td>\n",
       "      <td>0-1</td>\n",
       "      <td>174.0</td>\n",
       "      <td>124.0</td>\n",
       "      <td>281.0</td>\n",
       "    </tr>\n",
       "    <tr>\n",
       "      <th>21</th>\n",
       "      <td>Kidney</td>\n",
       "      <td>1.5-2</td>\n",
       "      <td>413.0</td>\n",
       "      <td>198.0</td>\n",
       "      <td>495.0</td>\n",
       "    </tr>\n",
       "    <tr>\n",
       "      <th>22</th>\n",
       "      <td>Kidney</td>\n",
       "      <td>2.5-3</td>\n",
       "      <td>525.0</td>\n",
       "      <td>239.0</td>\n",
       "      <td>977.0</td>\n",
       "    </tr>\n",
       "  </tbody>\n",
       "</table>\n",
       "</div>"
      ],
      "text/plain": [
       "   Primary_site GPA_range KMF_median Lower_median_CI Higher_median_CI\n",
       "0       Overall       0-1      240.0           193.0            275.0\n",
       "1       Overall     1.5-2      281.0           255.0            312.0\n",
       "2       Overall     2.5-3      375.0           325.0            430.0\n",
       "3       Overall     3.5-4      530.0           400.0            851.0\n",
       "4        Breast       0-1      294.0           186.0            373.0\n",
       "5        Breast     1.5-2      366.0           311.0            428.0\n",
       "6        Breast     2.5-3      461.0           356.0            712.0\n",
       "7        Breast     3.5-4      906.0           352.0           2320.0\n",
       "8      Melanoma       0-1      127.0            77.0            281.0\n",
       "9      Melanoma     1.5-2      143.0           119.0            194.0\n",
       "10     Melanoma     2.5-3      269.0           230.0            306.0\n",
       "11     Melanoma     3.5-4      400.0           217.0            484.0\n",
       "12           GI       0-1      165.0            65.0            417.0\n",
       "13           GI     1.5-2      330.0           160.0            445.0\n",
       "14           GI     2.5-3      240.0           161.0            336.0\n",
       "15           GI     3.5-4      356.0           356.0            356.0\n",
       "16         Lung       0-1      244.0           195.0            292.0\n",
       "17         Lung     1.5-2      291.0           262.0            352.0\n",
       "18         Lung     2.5-3      463.0           377.0            539.0\n",
       "19         Lung     3.5-4      683.0           295.0            993.0\n",
       "20       Kidney       0-1      174.0           124.0            281.0\n",
       "21       Kidney     1.5-2      413.0           198.0            495.0\n",
       "22       Kidney     2.5-3      525.0           239.0            977.0"
      ]
     },
     "execution_count": 27,
     "metadata": {},
     "output_type": "execute_result"
    }
   ],
   "source": [
    "result"
   ]
  },
  {
   "cell_type": "markdown",
   "id": "58fa081e-5c5b-4cfd-a634-ef092b9fda69",
   "metadata": {},
   "source": [
    "#### Documents\n",
    "* https://lifelines.readthedocs.io/en/latest/fitters/univariate/KaplanMeierFitter.html\n",
    "* https://github.com/CamDavidsonPilon/lifelines/blob/master/docs/Survival%20analysis%20with%20lifelines.rst"
   ]
  }
 ],
 "metadata": {
  "kernelspec": {
   "display_name": "Python 3 (ipykernel)",
   "language": "python",
   "name": "python3"
  },
  "language_info": {
   "codemirror_mode": {
    "name": "ipython",
    "version": 3
   },
   "file_extension": ".py",
   "mimetype": "text/x-python",
   "name": "python",
   "nbconvert_exporter": "python",
   "pygments_lexer": "ipython3",
   "version": "3.8.2"
  }
 },
 "nbformat": 4,
 "nbformat_minor": 5
}
